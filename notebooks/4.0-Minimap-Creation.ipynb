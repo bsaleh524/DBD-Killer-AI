{
 "cells": [
  {
   "cell_type": "markdown",
   "metadata": {},
   "source": [
    "# Killer AI Minimap creation\n",
    "\n",
    "This notebook helps show how a minimap is made from a given video. For all detected objects, they will appear as certain symbols within a minimap."
   ]
  },
  {
   "cell_type": "markdown",
   "metadata": {},
   "source": [
    "## 1. Imports and variable setup"
   ]
  },
  {
   "cell_type": "code",
   "execution_count": 1,
   "metadata": {},
   "outputs": [
    {
     "name": "stderr",
     "output_type": "stream",
     "text": [
      "/Users/mreagles524/anaconda3/envs/dbd_ai/lib/python3.10/site-packages/torchvision/io/image.py:13: UserWarning: Failed to load image Python extension: 'dlopen(/Users/mreagles524/anaconda3/envs/dbd_ai/lib/python3.10/site-packages/torchvision/image.so, 0x0006): Symbol not found: __ZN3c1017RegisterOperatorsD1Ev\n",
      "  Referenced from: <5AA8DD3D-A2CC-31CA-8060-88B4E9C18B09> /Users/mreagles524/anaconda3/envs/dbd_ai/lib/python3.10/site-packages/torchvision/image.so\n",
      "  Expected in:     <F9F049DF-FB3A-3319-9850-7654881F4195> /Users/mreagles524/anaconda3/envs/dbd_ai/lib/python3.10/site-packages/torch/lib/libtorch_cpu.dylib'If you don't plan on using image functionality from `torchvision.io`, you can ignore this warning. Otherwise, there might be something wrong with your environment. Did you have `libjpeg` or `libpng` installed before building `torchvision` from source?\n",
      "  warn(\n"
     ]
    },
    {
     "name": "stdout",
     "output_type": "stream",
     "text": [
      "/Users/mreagles524/Documents/gitrepos/projects/DBD-Killer-AI/notebooks\n"
     ]
    }
   ],
   "source": [
    "# Import all libraries\n",
    "import os\n",
    "import ultralytics\n",
    "from ultralytics import YOLO\n",
    "from IPython.display import display, Image, Video\n",
    "from pathlib import Path\n",
    "import sys\n",
    "import glob\n",
    "import random\n",
    "import cv2\n",
    "import numpy as np\n",
    "import supervision as sv\n",
    "# from dbdkillerai.models.predict_model import process_frame\n",
    "# Setup HOME environment variable\n",
    "HOME = os.getcwd()\n",
    "print(HOME)\n",
    "from ipywidgets import Video as ipyVideo"
   ]
  },
  {
   "cell_type": "code",
   "execution_count": 2,
   "metadata": {},
   "outputs": [
    {
     "name": "stdout",
     "output_type": "stream",
     "text": [
      "Ultralytics YOLOv8.0.238 🚀 Python-3.10.13 torch-2.2.0 CPU (Apple M1 Pro)\n",
      "Setup complete ✅ (8 CPUs, 16.0 GB RAM, 96.4/460.4 GB disk)\n"
     ]
    }
   ],
   "source": [
    "# Check image displays are good\n",
    "# display.clear_output()\n",
    "sys.path.append(str(Path.cwd().parent))\n",
    "# Check ultralytics library is good\n",
    "ultralytics.checks()"
   ]
  },
  {
   "cell_type": "code",
   "execution_count": 3,
   "metadata": {},
   "outputs": [],
   "source": [
    "# Environment variables\n",
    "PROJECT_DIR = Path.cwd().parent\n",
    "DATASET_VERSION = 5"
   ]
  },
  {
   "cell_type": "code",
   "execution_count": 4,
   "metadata": {},
   "outputs": [],
   "source": [
    "data_directory = str(PROJECT_DIR) + f\"/data/external/deadbydaylightkillerai/killer_ai_object_detection/{DATASET_VERSION}\"\n",
    "yaml_directory = data_directory + \"/data.yaml\""
   ]
  },
  {
   "cell_type": "markdown",
   "metadata": {},
   "source": [
    "## 2. Import Model\n",
    "\n",
    "Find the best model amongst all runs of training runs.\n",
    "\n",
    "**Note**:\n",
    "- mAP under \"train\" folders correspond to mAP agaisnt validation data\n",
    "- mAP under \"val\" folders correspond to map against test data\n",
    "    - Per this response from developers: https://github.com/ultralytics/ultralytics/issues/3737#issuecomment-1813520866\n",
    "\n",
    "To move along in the project, we will only focus on models that ran against validation data."
   ]
  },
  {
   "cell_type": "code",
   "execution_count": 5,
   "metadata": {},
   "outputs": [
    {
     "name": "stdout",
     "output_type": "stream",
     "text": [
      "No models trained on dataset 5\n"
     ]
    }
   ],
   "source": [
    "from dbdkillerai.utils.utils import find_best_model\n",
    "\n",
    "# Grab the best model from the runs directory, only validation(train) runs\n",
    "# target_data_value is the desired dataset to filter runs from.\n",
    "best_model_info = find_best_model(runs_directory=\"runs/detect/\",\n",
    "                                   folder_type=\"train\", # train = \"val\" mAP\n",
    "                                   target_data_value=f\"deadbydaylightkillerai/killer_ai_object_detection/{DATASET_VERSION}\")\n",
    "if best_model_info is not None:\n",
    "    run_folder = best_model_info[\"model_folder\"]\n",
    "    model = YOLO(model=best_model_info[\"weights_path\"])"
   ]
  },
  {
   "cell_type": "markdown",
   "metadata": {},
   "source": [
    "## 3. Process video\n",
    "\n",
    "A video file will pass through a given video to create a close-up minimap."
   ]
  },
  {
   "cell_type": "code",
   "execution_count": null,
   "metadata": {},
   "outputs": [],
   "source": [
    "# Open the video file\n",
    "VIDEO_PATH = f\"{PROJECT_DIR}/data/raw/huntress_chase.mp4\"\n",
    "cap = cv2.VideoCapture(VIDEO_PATH)\n",
    "video_info = sv.VideoInfo.from_video_path(VIDEO_PATH)\n"
   ]
  }
 ],
 "metadata": {
  "kernelspec": {
   "display_name": "dbd_ai",
   "language": "python",
   "name": "python3"
  },
  "language_info": {
   "codemirror_mode": {
    "name": "ipython",
    "version": 3
   },
   "file_extension": ".py",
   "mimetype": "text/x-python",
   "name": "python",
   "nbconvert_exporter": "python",
   "pygments_lexer": "ipython3",
   "version": "3.10.13"
  }
 },
 "nbformat": 4,
 "nbformat_minor": 2
}
